{
 "cells": [
  {
   "cell_type": "code",
   "execution_count": 4,
   "id": "43029186-df13-4cbc-a395-89a1250fad1a",
   "metadata": {},
   "outputs": [
    {
     "name": "stdout",
     "output_type": "stream",
     "text": [
      "1\n",
      "2\n",
      "3\n",
      "4\n",
      "5\n"
     ]
    }
   ],
   "source": [
    "#Print numbers from 1 to 5 using a while loop.\n",
    "a = 1\n",
    "while a<=5:\n",
    "    print(a)\n",
    "    a=a+1"
   ]
  },
  {
   "cell_type": "code",
   "execution_count": 1,
   "id": "a5b204a3-84cd-461d-acc1-6583e4ccc41e",
   "metadata": {},
   "outputs": [
    {
     "name": "stdout",
     "output_type": "stream",
     "text": [
      "1\n",
      "3\n",
      "6\n",
      "10\n",
      "15\n",
      "21\n",
      "28\n",
      "36\n",
      "45\n",
      "55\n"
     ]
    }
   ],
   "source": [
    "#Calculate the sum of numbers from 1 to 10 using a while loop.\n",
    "sum = 0\n",
    "num = 1\n",
    "while num<11:\n",
    "    sum = sum + num\n",
    "    num += 1\n",
    "    print(sum)"
   ]
  },
  {
   "cell_type": "code",
   "execution_count": 15,
   "id": "5dd2b8df-c347-4b27-a817-45ae6a04cd82",
   "metadata": {},
   "outputs": [
    {
     "name": "stdin",
     "output_type": "stream",
     "text": [
      "please enter number :  5\n"
     ]
    },
    {
     "name": "stdout",
     "output_type": "stream",
     "text": [
      "factorial of 5 is :  120\n"
     ]
    }
   ],
   "source": [
    "#Calculate the factorial of a number using a for loop.\n",
    "num = int(input(\"please enter number : \"))\n",
    "fact = 1\n",
    "if num>=1:\n",
    "    for i in range (1,num+1):\n",
    "        fact = fact*i\n",
    "print(\"factorial of\", num, \"is : \",fact)"
   ]
  },
  {
   "cell_type": "code",
   "execution_count": 35,
   "id": "b154576b-d821-4d5d-a6fd-e098546c8400",
   "metadata": {},
   "outputs": [
    {
     "name": "stdin",
     "output_type": "stream",
     "text": [
      "please enter the string :  Data Analytics\n"
     ]
    },
    {
     "name": "stdout",
     "output_type": "stream",
     "text": [
      "the no of vowels is :  5\n"
     ]
    }
   ],
   "source": [
    "#Count the number of vowels in a string using a for loop.\n",
    "str = input(\"please enter the string : \")\n",
    "vowels = \"aeiouAEIOU\"\n",
    "count = 0\n",
    "for char in str:\n",
    "    if char in vowels:\n",
    "        count += 1\n",
    "print(\"the no of vowels is : \", count)"
   ]
  },
  {
   "cell_type": "code",
   "execution_count": 39,
   "id": "f5c462bd-554a-4792-bbeb-85d77223fa40",
   "metadata": {},
   "outputs": [
    {
     "name": "stdout",
     "output_type": "stream",
     "text": [
      "* \n",
      "* * \n",
      "* * * \n",
      "* * * * \n",
      "* * * * * \n",
      "* * * * * * \n"
     ]
    }
   ],
   "source": [
    "#Print a pattern using nested loops.\n",
    "#using for loop\n",
    "for i in range(6):\n",
    "    for j in range (i+1):\n",
    "        print('*', end=\" \") #end=\" \" >> use for space in *.\n",
    "    print() # use for new line\n"
   ]
  },
  {
   "cell_type": "code",
   "execution_count": 45,
   "id": "1cb14a04-69b8-454c-97a9-ef790a447bf7",
   "metadata": {},
   "outputs": [
    {
     "name": "stdout",
     "output_type": "stream",
     "text": [
      "* \n",
      "* * \n",
      "* * * \n",
      "* * * * \n",
      "* * * * * \n",
      "* * * * * * \n"
     ]
    }
   ],
   "source": [
    "#using while loop\n",
    "line = 1\n",
    "while line <7:\n",
    "    col = 1\n",
    "    while col <= line:\n",
    "        print(\"*\", end = ' ')\n",
    "        col = col+1\n",
    "    print()\n",
    "    line = line+1"
   ]
  },
  {
   "cell_type": "code",
   "execution_count": 47,
   "id": "648174f7-b06e-4d5b-95b2-44caff5f0faa",
   "metadata": {},
   "outputs": [
    {
     "name": "stdout",
     "output_type": "stream",
     "text": [
      "7 * 1 = 7\n",
      "7 * 2 = 14\n",
      "7 * 3 = 21\n",
      "7 * 4 = 28\n",
      "7 * 5 = 35\n",
      "7 * 6 = 42\n",
      "7 * 7 = 49\n",
      "7 * 8 = 56\n",
      "7 * 9 = 63\n",
      "7 * 10 = 70\n"
     ]
    }
   ],
   "source": [
    "#Generate a multiplication table using nested loops.\n",
    "num = 7\n",
    "for i in range(1,11):\n",
    "    print(num,\"*\",i,\"=\", num*i)"
   ]
  }
 ],
 "metadata": {
  "kernelspec": {
   "display_name": "Python 3 (ipykernel)",
   "language": "python",
   "name": "python3"
  },
  "language_info": {
   "codemirror_mode": {
    "name": "ipython",
    "version": 3
   },
   "file_extension": ".py",
   "mimetype": "text/x-python",
   "name": "python",
   "nbconvert_exporter": "python",
   "pygments_lexer": "ipython3",
   "version": "3.12.4"
  }
 },
 "nbformat": 4,
 "nbformat_minor": 5
}
